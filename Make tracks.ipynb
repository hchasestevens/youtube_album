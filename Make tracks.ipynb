{
 "cells": [
  {
   "cell_type": "code",
   "execution_count": 1,
   "metadata": {
    "collapsed": true
   },
   "outputs": [],
   "source": [
    "from pydub import AudioSegment\n",
    "import requests\n",
    "from lxml import etree\n",
    "from StringIO import StringIO"
   ]
  },
  {
   "cell_type": "code",
   "execution_count": 2,
   "metadata": {
    "collapsed": true
   },
   "outputs": [],
   "source": [
    "URL = 'https://www.youtube.com/watch?v=C-1mYXVP1Ok'"
   ]
  },
  {
   "cell_type": "code",
   "execution_count": 3,
   "metadata": {
    "collapsed": true
   },
   "outputs": [],
   "source": [
    "response = requests.get(URL)"
   ]
  },
  {
   "cell_type": "code",
   "execution_count": 4,
   "metadata": {
    "collapsed": false
   },
   "outputs": [],
   "source": [
    "parser = etree.HTMLParser()\n",
    "tree = etree.parse(StringIO(response.text), parser)"
   ]
  },
  {
   "cell_type": "code",
   "execution_count": 5,
   "metadata": {
    "collapsed": false
   },
   "outputs": [],
   "source": [
    "start_times = tree.xpath(\".//a[contains(@onclick, 'seekTo')]/text()\")"
   ]
  },
  {
   "cell_type": "code",
   "execution_count": 9,
   "metadata": {
    "collapsed": false
   },
   "outputs": [],
   "source": [
    "track_names = [\n",
    "    track.split(') ')[-1]\n",
    "    for track in\n",
    "    tree.xpath(\".//a[contains(@onclick, 'seekTo')]/../text()\")\n",
    "    if track.strip()[0].isdigit() and ') ' in track\n",
    "]"
   ]
  },
  {
   "cell_type": "code",
   "execution_count": 11,
   "metadata": {
    "collapsed": false
   },
   "outputs": [
    {
     "data": {
      "text/plain": [
       "[('00:00', 'Rebel Rebel'),\n",
       " ('02:46', 'Life On Mars'),\n",
       " ('06:15', 'Starman'),\n",
       " ('09:32', 'Ziggy Stardust'),\n",
       " ('13:14', 'Lady Stardust'),\n",
       " ('16:45', 'Changes'),\n",
       " ('20:26', 'Oh! You Pretty Things'),\n",
       " ('23:58', \"Rock N' Roll Suicide\"),\n",
       " ('27:08', 'Suffragette City'),\n",
       " ('30:19', 'Five Years'),\n",
       " ('34:18', 'Queen Bitch'),\n",
       " ('38:00', 'When I Live My Dream'),\n",
       " ('40:55', 'Quicksand'),\n",
       " ('45:31', 'Team Zissou')]"
      ]
     },
     "execution_count": 11,
     "metadata": {},
     "output_type": "execute_result"
    }
   ],
   "source": [
    "zip(start_times, track_names)"
   ]
  },
  {
   "cell_type": "code",
   "execution_count": 12,
   "metadata": {
    "collapsed": true
   },
   "outputs": [],
   "source": [
    "from collections import namedtuple\n",
    "Track = namedtuple('Track', 'name start_time end_time')"
   ]
  },
  {
   "cell_type": "code",
   "execution_count": 13,
   "metadata": {
    "collapsed": true
   },
   "outputs": [],
   "source": [
    "def parsetime(t):\n",
    "    if t is None:\n",
    "        return -1\n",
    "    segments = map(int, t.split(':'))\n",
    "    ms_mappings = [1000, 1000 * 60, 1000 * 60 * 60]\n",
    "    return sum(\n",
    "        value * conversion\n",
    "        for value, conversion in\n",
    "        zip(reversed(segments), ms_mappings)\n",
    "    )"
   ]
  },
  {
   "cell_type": "code",
   "execution_count": 14,
   "metadata": {
    "collapsed": false
   },
   "outputs": [],
   "source": [
    "from itertools import izip_longest\n",
    "\n",
    "tracks = [\n",
    "    Track(name, parsetime(start_time), parsetime(end_time))\n",
    "    for name, start_time, end_time in \n",
    "    izip_longest(track_names, start_times, start_times[1:])\n",
    "]"
   ]
  },
  {
   "cell_type": "code",
   "execution_count": 15,
   "metadata": {
    "collapsed": false
   },
   "outputs": [
    {
     "data": {
      "text/plain": [
       "[Track(name='Rebel Rebel', start_time=0, end_time=166000),\n",
       " Track(name='Life On Mars', start_time=166000, end_time=375000),\n",
       " Track(name='Starman', start_time=375000, end_time=572000),\n",
       " Track(name='Ziggy Stardust', start_time=572000, end_time=794000),\n",
       " Track(name='Lady Stardust', start_time=794000, end_time=1005000),\n",
       " Track(name='Changes', start_time=1005000, end_time=1226000),\n",
       " Track(name='Oh! You Pretty Things', start_time=1226000, end_time=1438000),\n",
       " Track(name=\"Rock N' Roll Suicide\", start_time=1438000, end_time=1628000),\n",
       " Track(name='Suffragette City', start_time=1628000, end_time=1819000),\n",
       " Track(name='Five Years', start_time=1819000, end_time=2058000),\n",
       " Track(name='Queen Bitch', start_time=2058000, end_time=2280000),\n",
       " Track(name='When I Live My Dream', start_time=2280000, end_time=2455000),\n",
       " Track(name='Quicksand', start_time=2455000, end_time=2731000),\n",
       " Track(name='Team Zissou', start_time=2731000, end_time=-1)]"
      ]
     },
     "execution_count": 15,
     "metadata": {},
     "output_type": "execute_result"
    }
   ],
   "source": [
    "tracks"
   ]
  },
  {
   "cell_type": "code",
   "execution_count": 16,
   "metadata": {
    "collapsed": false
   },
   "outputs": [],
   "source": [
    "songs = AudioSegment.from_mp3('songs.mp3')"
   ]
  },
  {
   "cell_type": "code",
   "execution_count": 17,
   "metadata": {
    "collapsed": false
   },
   "outputs": [],
   "source": [
    "audio_tracks = [(t.name, songs[t.start_time:t.end_time]) for t in tracks]"
   ]
  },
  {
   "cell_type": "code",
   "execution_count": 18,
   "metadata": {
    "collapsed": false
   },
   "outputs": [],
   "source": [
    "import string\n",
    "for i, (title, track) in enumerate(audio_tracks):\n",
    "    track.export(\n",
    "        '{:02d} - {}.mp3'.format(i, title),\n",
    "        format='mp3',\n",
    "        tags={\n",
    "            'title': title,\n",
    "            'album': 'The Life Aquatic Studio Sessions',\n",
    "            'artist': 'Seu Jorge',\n",
    "        }\n",
    "    )"
   ]
  },
  {
   "cell_type": "code",
   "execution_count": 15,
   "metadata": {
    "collapsed": false
   },
   "outputs": [
    {
     "name": "stdout",
     "output_type": "stream",
     "text": [
      "Help on method export in module pydub.audio_segment:\n",
      "\n",
      "export(self, out_f=None, format='mp3', codec=None, bitrate=None, parameters=None, tags=None, id3v2_version='4') method of pydub.audio_segment.AudioSegment instance\n",
      "    Export an AudioSegment to a file with given options\n",
      "    \n",
      "    out_f (string):\n",
      "        Path to destination audio file\n",
      "    \n",
      "    format (string)\n",
      "        Format for destination audio file.\n",
      "        ('mp3', 'wav', 'raw', 'ogg' or other ffmpeg/avconv supported files)\n",
      "    \n",
      "    codec (string)\n",
      "        Codec used to encoding for the destination.\n",
      "    \n",
      "    bitrate (string)\n",
      "        Bitrate used when encoding destination file. (64, 92, 128, 256, 312k...)\n",
      "        Each codec accepts different bitrate arguments so take a look at the\n",
      "        ffmpeg documentation for details (bitrate usually shown as -b, -ba or\n",
      "        -a:b).\n",
      "    \n",
      "    parameters (string)\n",
      "        Aditional ffmpeg/avconv parameters\n",
      "    \n",
      "    tags (dict)\n",
      "        Set metadata information to destination files\n",
      "        usually used as tags. ({title='Song Title', artist='Song Artist'})\n",
      "    \n",
      "    id3v2_version (string)\n",
      "        Set ID3v2 version for tags. (default: '4')\n",
      "\n"
     ]
    }
   ],
   "source": [
    "help(audio_tracks[0][1].export)"
   ]
  }
 ],
 "metadata": {
  "kernelspec": {
   "display_name": "Python 2",
   "language": "python",
   "name": "python2"
  },
  "language_info": {
   "codemirror_mode": {
    "name": "ipython",
    "version": 2
   },
   "file_extension": ".py",
   "mimetype": "text/x-python",
   "name": "python",
   "nbconvert_exporter": "python",
   "pygments_lexer": "ipython2",
   "version": "2.7.12"
  }
 },
 "nbformat": 4,
 "nbformat_minor": 0
}
